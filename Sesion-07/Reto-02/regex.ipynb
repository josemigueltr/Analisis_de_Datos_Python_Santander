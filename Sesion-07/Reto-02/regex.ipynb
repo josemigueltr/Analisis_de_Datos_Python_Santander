{
 "cells": [
  {
   "cell_type": "markdown",
   "metadata": {},
   "source": [
    "## Reto 2: Regex\n",
    "\n",
    "### 1. Objetivos:\n",
    "    - Practicar expresiones regulares con un conjunto de datos real\n",
    " \n",
    "---\n",
    "    \n",
    "### 2. Desarrollo:"
   ]
  },
  {
   "cell_type": "markdown",
   "metadata": {},
   "source": [
    "Vamos a practicar expresiones regulares utilizando un conjunto de datos llamado 'amazon_fine_food_reviews-clean.csv'. Este conjunto de datos es en realidad un subconjunto de un conjunto más grande que proviene de [esta fuente](https://www.kaggle.com/snap/amazon-fine-food-reviews). Contiene evaluaciones de muchos diversos productos realizadas por usuarios de Amazon. La columna 'text' contiene el texto de la evaluación, y ésa es la columna que nos interesa.\n",
    "\n",
    "Vamos a practicar expresiones regulares con esa columna. Con cada búsqueda que realices vas a obtener un nuevo subconjunto de datos de un tamaño específico. Al terminar tus búsquedas compara el tamaño de tus subconjuntos de datos con los de tus compañeros, para checar que tus respuestas fueron correctas.\n",
    "\n",
    "Tu Reto es entonces obtener subconjunto de datos que tengan estas características:\n",
    "\n",
    "1. Todas las evaluaciones que contengan la palabra 'food' (en minúsculas).\n",
    "2. Todas las evaluaciones que contengan algún número de dos digitos.\n",
    "3. Todas las evaluaciones que contengan algún porcentaje (uno o más digitos seguidos de un signo de porcentaje).\n",
    "4. Todas las evaluaciones que comiencen con la palabra 'Dog' o 'dog'.\n",
    "5. Todas las evaluaciones que terminen con el fragmento 'awesome.' (fíjate que hay específicamente un punto después de la palabra 'awesome').\n",
    "6. Todas las evaluaciones que contengan las palabras 'horrible' **o** 'terrible'.\n",
    "7. Todas las evaluaciones que contengan **solamente** letras minúsculas.\n",
    "\n",
    "Después de realizar estas exploraciones, limpia tu conjunto de datos para remover lo siguiente de todos tus textos:\n",
    "\n",
    "1. Cualquier forma parecida a la siguiente: `<br>` o `<br/>` (revisa variaciones de estos tags, con espacios intermedios, por ejemplo)\n",
    "2. Signos en general\n",
    "3. Digitos\n",
    "4. Cualquier otra cosa que no te parezca relevante para nuestro análisis de lenguaje natural\n",
    "\n",
    "También convierte todas las letras en minúsculas para homogeneizar nuestro conjunto de datos.\n",
    "\n",
    "Guarda tu conjunto de datos como un archivo 'csv' para que lo puedas utilizar en los próximos retos (asegúrate de incluir **por lo menos** las columnas 'text' y 'score'."
   ]
  },
  {
   "cell_type": "code",
   "execution_count": 5,
   "metadata": {},
   "outputs": [],
   "source": [
    "import pandas as pd\n",
    "import re"
   ]
  },
  {
   "cell_type": "code",
   "execution_count": 7,
   "metadata": {},
   "outputs": [
    {
     "data": {
      "text/html": [
       "<div>\n",
       "<style scoped>\n",
       "    .dataframe tbody tr th:only-of-type {\n",
       "        vertical-align: middle;\n",
       "    }\n",
       "\n",
       "    .dataframe tbody tr th {\n",
       "        vertical-align: top;\n",
       "    }\n",
       "\n",
       "    .dataframe thead th {\n",
       "        text-align: right;\n",
       "    }\n",
       "</style>\n",
       "<table border=\"1\" class=\"dataframe\">\n",
       "  <thead>\n",
       "    <tr style=\"text-align: right;\">\n",
       "      <th></th>\n",
       "      <th>id</th>\n",
       "      <th>product_id</th>\n",
       "      <th>user_id</th>\n",
       "      <th>profile_name</th>\n",
       "      <th>helpfulness_numerator</th>\n",
       "      <th>helpfulness_denominator</th>\n",
       "      <th>score</th>\n",
       "      <th>time</th>\n",
       "      <th>summary</th>\n",
       "      <th>text</th>\n",
       "    </tr>\n",
       "  </thead>\n",
       "  <tbody>\n",
       "    <tr>\n",
       "      <th>0</th>\n",
       "      <td>258510</td>\n",
       "      <td>B00168V34W</td>\n",
       "      <td>A1672LH9S1XO70</td>\n",
       "      <td>Lorna J. Loomis \"Canadian Dog Fancier\"</td>\n",
       "      <td>13</td>\n",
       "      <td>14</td>\n",
       "      <td>3</td>\n",
       "      <td>1266796800</td>\n",
       "      <td>Misleading to refer to \"PODS\"</td>\n",
       "      <td>This coffee does NOT come in individual \"PODS\"...</td>\n",
       "    </tr>\n",
       "    <tr>\n",
       "      <th>1</th>\n",
       "      <td>207915</td>\n",
       "      <td>B000CQID2Y</td>\n",
       "      <td>A42CJC66XO0H7</td>\n",
       "      <td>Scott Schimmel \"A Butterfly Dreaming\"</td>\n",
       "      <td>2</td>\n",
       "      <td>2</td>\n",
       "      <td>5</td>\n",
       "      <td>1279497600</td>\n",
       "      <td>Delicious</td>\n",
       "      <td>I was a little skeptical after looking at the ...</td>\n",
       "    </tr>\n",
       "    <tr>\n",
       "      <th>2</th>\n",
       "      <td>522649</td>\n",
       "      <td>B007TJGZ0Y</td>\n",
       "      <td>A16QZBG2UN6Z3X</td>\n",
       "      <td>Toology \"Toology\"</td>\n",
       "      <td>0</td>\n",
       "      <td>0</td>\n",
       "      <td>5</td>\n",
       "      <td>1335830400</td>\n",
       "      <td>One of my favs</td>\n",
       "      <td>Gloia Jeans Butter Toffee is one of my favorit...</td>\n",
       "    </tr>\n",
       "    <tr>\n",
       "      <th>3</th>\n",
       "      <td>393368</td>\n",
       "      <td>B000W7PUOW</td>\n",
       "      <td>A3J21CQZG60K35</td>\n",
       "      <td>Hsieh Pei Hsuan</td>\n",
       "      <td>2</td>\n",
       "      <td>2</td>\n",
       "      <td>5</td>\n",
       "      <td>1265673600</td>\n",
       "      <td>Tasty!!</td>\n",
       "      <td>My families and friends love Planters peanuts ...</td>\n",
       "    </tr>\n",
       "    <tr>\n",
       "      <th>4</th>\n",
       "      <td>178178</td>\n",
       "      <td>B002FX2IOQ</td>\n",
       "      <td>A1Z7XV6JU0EV8M</td>\n",
       "      <td>Barbara \"Barbara\"</td>\n",
       "      <td>1</td>\n",
       "      <td>6</td>\n",
       "      <td>1</td>\n",
       "      <td>1301788800</td>\n",
       "      <td>Organic Valley White 1 % Milkfat Lowfat Milk, ...</td>\n",
       "      <td>Organic Valley White 1 % Milkfat Lowfat Milk, ...</td>\n",
       "    </tr>\n",
       "  </tbody>\n",
       "</table>\n",
       "</div>"
      ],
      "text/plain": [
       "       id  product_id         user_id                            profile_name  \\\n",
       "0  258510  B00168V34W  A1672LH9S1XO70  Lorna J. Loomis \"Canadian Dog Fancier\"   \n",
       "1  207915  B000CQID2Y   A42CJC66XO0H7   Scott Schimmel \"A Butterfly Dreaming\"   \n",
       "2  522649  B007TJGZ0Y  A16QZBG2UN6Z3X                       Toology \"Toology\"   \n",
       "3  393368  B000W7PUOW  A3J21CQZG60K35                         Hsieh Pei Hsuan   \n",
       "4  178178  B002FX2IOQ  A1Z7XV6JU0EV8M                       Barbara \"Barbara\"   \n",
       "\n",
       "   helpfulness_numerator  helpfulness_denominator  score        time  \\\n",
       "0                     13                       14      3  1266796800   \n",
       "1                      2                        2      5  1279497600   \n",
       "2                      0                        0      5  1335830400   \n",
       "3                      2                        2      5  1265673600   \n",
       "4                      1                        6      1  1301788800   \n",
       "\n",
       "                                             summary  \\\n",
       "0                      Misleading to refer to \"PODS\"   \n",
       "1                                          Delicious   \n",
       "2                                     One of my favs   \n",
       "3                                            Tasty!!   \n",
       "4  Organic Valley White 1 % Milkfat Lowfat Milk, ...   \n",
       "\n",
       "                                                text  \n",
       "0  This coffee does NOT come in individual \"PODS\"...  \n",
       "1  I was a little skeptical after looking at the ...  \n",
       "2  Gloia Jeans Butter Toffee is one of my favorit...  \n",
       "3  My families and friends love Planters peanuts ...  \n",
       "4  Organic Valley White 1 % Milkfat Lowfat Milk, ...  "
      ]
     },
     "execution_count": 7,
     "metadata": {},
     "output_type": "execute_result"
    }
   ],
   "source": [
    "df = pd.read_csv('../../Datasets/amazon_fine_food_reviews-clean.csv')\n",
    "\n",
    "df.head()"
   ]
  },
  {
   "cell_type": "code",
   "execution_count": 11,
   "metadata": {},
   "outputs": [
    {
     "data": {
      "text/plain": [
       "product_id\n",
       "0006641040    TITLE: Chicken Soup with Rice<br />AUTHOR: Mau...\n",
       "7310172001    I buy a big tub of these for my dog about ever...\n",
       "7310172101    This is a great treat for dogs, but do read th...\n",
       "B00004CI84    well one of the best you just have to have a c...\n",
       "B00004CXX9    What happens when you say his name three times...\n",
       "                                    ...                        \n",
       "B009M2LUEW    When I found out about this product from Jorge...\n",
       "B009NTCO4O    I purchased this item for a christmas<br />gif...\n",
       "B009NY1MC4    This is fantastic! It is more of a syrup than ...\n",
       "B009QEBGIQ    This is a great rice, tender when cooked and s...\n",
       "B009RB4GO4    Yes, it does have artificial sweetener.  Yes, ...\n",
       "Name: text, Length: 8629, dtype: object"
      ]
     },
     "execution_count": 11,
     "metadata": {},
     "output_type": "execute_result"
    }
   ],
   "source": [
    "\n",
    "group = df.groupby('product_id')['text'].max()\n",
    "\n",
    "group"
   ]
  },
  {
   "cell_type": "code",
   "execution_count": 16,
   "metadata": {},
   "outputs": [
    {
     "data": {
      "text/plain": [
       "product_id\n",
       "B00008433V    My Dalmatian mix has severe skin allergies. Th...\n",
       "B00028LVKS    I have never been regular. Never. Never ever. ...\n",
       "B0006M13WG    Our rat terrier was losing her fur, had pinkis...\n",
       "B0006VB3TA    These are decent treats to keep your dog busy ...\n",
       "B0007G9FD0    Our 7½-year-old and 2-year-old dogs have been ...\n",
       "B0009F3SC8    I wrote a negative review and I change my mind...\n",
       "B000ET4SM8    each bean is nice and plump, very good smell a...\n",
       "B000EUOZGG    These are fantastic tasting crackers but I did...\n",
       "B000F9ZEUM    Our 10 year old cat had been having some skin ...\n",
       "B000FEFET8    we cannot find these Sardines in our local sto...\n",
       "B000GAO91K    The bottle is much bigger than I expected and ...\n",
       "B000GW23PC    CAREFUL!!  My nine year old stepson is around ...\n",
       "B000HDMWKQ    The other reviewer didnt like the bones and sk...\n",
       "B000JGLE0U    First when it arrived everyone on the house we...\n",
       "B000K5URAI    I love this stuff, its as good as what you get...\n",
       "B000KJBCZ8    can not believe how over priced this coffee is...\n",
       "B000LKXCB8    Some of the early reviews for this entree are ...\n",
       "B000LKZL76    I have been drinking this tea for about 2 mont...\n",
       "B000PSFKE8    I got a bag with 25 oinkies, pig skin with swe...\n",
       "B000QSQSGG    I am using this for my labrador mix that is ex...\n",
       "B000R2DUTY    When I look for a hot sauce I want something t...\n",
       "B000RHUWIQ    If you are looking for this you probably alrea...\n",
       "B000RI1FDG    When I received my shipment one bag was comple...\n",
       "B000RM2PSG    We (three Sicilians) ate the bottarga straight...\n",
       "B000UZLQG2    Product is pretty good, makes for great popcor...\n",
       "B000VK08OC    This honey really has healing properties.  I b...\n",
       "B000VTRI3C    I have a portly beagle, who is beyond cute but...\n",
       "B000WFMGDC    We have a mini schnauzer. He is not picky. He ...\n",
       "B000WFNLP4    Decided to purchase the 35 pound bag for my 12...\n",
       "B000WFRUP6    Although expensive, my fussy eater has eaten t...\n",
       "B000XZBXP8    My dog 14lb bichon was fine on this product fo...\n",
       "B000Y8X0LE    SO disappointed! I have oily, mild acne prone,...\n",
       "B000YAH1PS    We recently stocked a new kind of cat food for...\n",
       "B000YQCDQY    I stopped eating sugars because I was a diabet...\n",
       "B00112EMVO    I'm from Singapore and have been drinking tea ...\n",
       "B00112ILZM    This green powder is SO good, I just had to ge...\n",
       "B001189I3A    This eye cream smells really good. I'm not sur...\n",
       "B0011EO7WQ    I like how mild this is.  It works and is much...\n",
       "B00120U5DY    I've used this product considerably since I've...\n",
       "B00120VWSG    I purchased this product to use during a weigh...\n",
       "Name: text, dtype: object"
      ]
     },
     "execution_count": 16,
     "metadata": {},
     "output_type": "execute_result"
    }
   ],
   "source": [
    "#Todas las evaluaciones que contengan la palabra 'food' (en minúsculas).\n",
    "\n",
    "group[group.str.contains('skin')]"
   ]
  },
  {
   "cell_type": "code",
   "execution_count": 14,
   "metadata": {},
   "outputs": [
    {
     "data": {
      "text/plain": [
       "product_id\n",
       "B00006L2ZT    This is a  beautiful repackaging of Camper Van...\n",
       "B00008433V    My Dalmatian mix has severe skin allergies. Th...\n",
       "B000084F0P    I have greyhounds and they have sensitive stom...\n",
       "B00008DFK5    When I want my dog to leave everyone alone for...\n",
       "B0000A1ODW    Wilton's Black Sparkle Gel icing looks and tas...\n",
       "                                    ...                        \n",
       "B009AFJ3I6    I have purchased Ideal for about a year now bu...\n",
       "B009HINSPK    We've tried many Tassimo flavors.  This is by ...\n",
       "B009J2GVPS    i am a fan of the tassimo machine, and many of...\n",
       "B009KAQZIM    I love coffee. Usually I would not recommend M...\n",
       "B009QEBGIQ    This is a great rice, tender when cooked and s...\n",
       "Name: text, Length: 1755, dtype: object"
      ]
     },
     "execution_count": 14,
     "metadata": {},
     "output_type": "execute_result"
    }
   ],
   "source": [
    "#Todas las evaluaciones que contengan algún número de dos digitos.\n",
    "\n",
    "group[group.str.contains('[0-9][0-9]')]"
   ]
  },
  {
   "cell_type": "code",
   "execution_count": 22,
   "metadata": {},
   "outputs": [
    {
     "data": {
      "text/plain": [
       "product_id\n",
       "B0026LIVMU    I get this on Subscribe and Save and with the ...\n",
       "B002DTX544    WOW! I used to but this for 140 bucks and now ...\n",
       "Name: text, dtype: object"
      ]
     },
     "execution_count": 22,
     "metadata": {},
     "output_type": "execute_result"
    }
   ],
   "source": [
    "#Todas las evaluaciones que contengan algún porcentaje (uno o más digitos seguidos de un signo de porcentaje).\n",
    "\n",
    "group[group.str.contains('%\\d+')]"
   ]
  },
  {
   "cell_type": "code",
   "execution_count": null,
   "metadata": {},
   "outputs": [],
   "source": []
  },
  {
   "cell_type": "code",
   "execution_count": 25,
   "metadata": {},
   "outputs": [
    {
     "data": {
      "text/plain": [
       "product_id\n",
       "B008FWOAXI    Dog loves these. Eats them quickly and without...\n",
       "Name: text, dtype: object"
      ]
     },
     "execution_count": 25,
     "metadata": {},
     "output_type": "execute_result"
    }
   ],
   "source": [
    "#Todas las evaluaciones que comiencen con la palabra 'Dog' o 'dog'.\n",
    "group[group.str.contains('^dog',case=False)]"
   ]
  },
  {
   "cell_type": "code",
   "execution_count": null,
   "metadata": {},
   "outputs": [],
   "source": [
    "#Todas las evaluaciones que comiencen con la palabra 'Dog' o 'dog'.\n",
    "group[group.str.contains('^dog',case=False)]\n"
   ]
  }
 ],
 "metadata": {
  "kernelspec": {
   "display_name": "Python 3",
   "language": "python",
   "name": "python3"
  },
  "language_info": {
   "codemirror_mode": {
    "name": "ipython",
    "version": 3
   },
   "file_extension": ".py",
   "mimetype": "text/x-python",
   "name": "python",
   "nbconvert_exporter": "python",
   "pygments_lexer": "ipython3",
   "version": "3.7.3"
  }
 },
 "nbformat": 4,
 "nbformat_minor": 4
}
