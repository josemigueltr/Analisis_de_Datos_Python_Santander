{
 "cells": [
  {
   "cell_type": "markdown",
   "metadata": {},
   "source": [
    "## Ejemplo 4: Graficando con múltiples axis\n",
    "\n",
    "### 1. Objetivos:\n",
    "    - Aprender a generar varias gráficas al mismo tiempo para hacer comparaciones.\n",
    " \n",
    "---\n",
    "    \n",
    "### 2. Desarrollo:"
   ]
  },
  {
   "cell_type": "markdown",
   "metadata": {},
   "source": [
    "Tomemos la primera tabla de contingencia del Ejemplo pasado para graficarla:"
   ]
  },
  {
   "cell_type": "code",
   "execution_count": 1,
   "metadata": {},
   "outputs": [],
   "source": [
    "import pandas as pd\n",
    "import matplotlib.pyplot as plt\n",
    "import seaborn as sns\n",
    "sns.set_style('whitegrid')"
   ]
  },
  {
   "cell_type": "code",
   "execution_count": 2,
   "metadata": {},
   "outputs": [
    {
     "data": {
      "text/html": [
       "<div>\n",
       "<style scoped>\n",
       "    .dataframe tbody tr th:only-of-type {\n",
       "        vertical-align: middle;\n",
       "    }\n",
       "\n",
       "    .dataframe tbody tr th {\n",
       "        vertical-align: top;\n",
       "    }\n",
       "\n",
       "    .dataframe thead th {\n",
       "        text-align: right;\n",
       "    }\n",
       "</style>\n",
       "<table border=\"1\" class=\"dataframe\">\n",
       "  <thead>\n",
       "    <tr style=\"text-align: right;\">\n",
       "      <th></th>\n",
       "      <th>has_online_delivery</th>\n",
       "      <th>price_range</th>\n",
       "      <th>currency</th>\n",
       "      <th>name</th>\n",
       "      <th>cuisines</th>\n",
       "      <th>location.address</th>\n",
       "      <th>location.city</th>\n",
       "      <th>user_rating</th>\n",
       "    </tr>\n",
       "  </thead>\n",
       "  <tbody>\n",
       "    <tr>\n",
       "      <th>0</th>\n",
       "      <td>1</td>\n",
       "      <td>3</td>\n",
       "      <td>Rs.</td>\n",
       "      <td>Hauz Khas Social</td>\n",
       "      <td>Continental, American, Asian, North Indian</td>\n",
       "      <td>9-A &amp; 12, Hauz Khas Village, New Delhi</td>\n",
       "      <td>New Delhi</td>\n",
       "      <td>Very Good</td>\n",
       "    </tr>\n",
       "    <tr>\n",
       "      <th>1</th>\n",
       "      <td>0</td>\n",
       "      <td>3</td>\n",
       "      <td>Rs.</td>\n",
       "      <td>Qubitos - The Terrace Cafe</td>\n",
       "      <td>Thai, European, Mexican, North Indian, Chinese...</td>\n",
       "      <td>C-7, Vishal Enclave, Opposite Metro Pillar 417...</td>\n",
       "      <td>New Delhi</td>\n",
       "      <td>Excellent</td>\n",
       "    </tr>\n",
       "    <tr>\n",
       "      <th>2</th>\n",
       "      <td>1</td>\n",
       "      <td>2</td>\n",
       "      <td>Rs.</td>\n",
       "      <td>The Hudson Cafe</td>\n",
       "      <td>Cafe, Italian, Continental, Chinese</td>\n",
       "      <td>2524, 1st Floor, Hudson Lane, Delhi University...</td>\n",
       "      <td>New Delhi</td>\n",
       "      <td>Very Good</td>\n",
       "    </tr>\n",
       "    <tr>\n",
       "      <th>3</th>\n",
       "      <td>0</td>\n",
       "      <td>3</td>\n",
       "      <td>Rs.</td>\n",
       "      <td>Summer House Cafe</td>\n",
       "      <td>Italian, Continental</td>\n",
       "      <td>1st Floor, DDA Shopping Complex, Aurobindo Pla...</td>\n",
       "      <td>New Delhi</td>\n",
       "      <td>Very Good</td>\n",
       "    </tr>\n",
       "    <tr>\n",
       "      <th>4</th>\n",
       "      <td>0</td>\n",
       "      <td>3</td>\n",
       "      <td>Rs.</td>\n",
       "      <td>38 Barracks</td>\n",
       "      <td>North Indian, Italian, Asian, American</td>\n",
       "      <td>M-38, Outer Circle, Connaught Place, New Delhi</td>\n",
       "      <td>New Delhi</td>\n",
       "      <td>Very Good</td>\n",
       "    </tr>\n",
       "  </tbody>\n",
       "</table>\n",
       "</div>"
      ],
      "text/plain": [
       "   has_online_delivery  price_range currency                        name  \\\n",
       "0                    1            3      Rs.            Hauz Khas Social   \n",
       "1                    0            3      Rs.  Qubitos - The Terrace Cafe   \n",
       "2                    1            2      Rs.             The Hudson Cafe   \n",
       "3                    0            3      Rs.           Summer House Cafe   \n",
       "4                    0            3      Rs.                 38 Barracks   \n",
       "\n",
       "                                            cuisines  \\\n",
       "0         Continental, American, Asian, North Indian   \n",
       "1  Thai, European, Mexican, North Indian, Chinese...   \n",
       "2                Cafe, Italian, Continental, Chinese   \n",
       "3                               Italian, Continental   \n",
       "4             North Indian, Italian, Asian, American   \n",
       "\n",
       "                                    location.address location.city user_rating  \n",
       "0             9-A & 12, Hauz Khas Village, New Delhi     New Delhi   Very Good  \n",
       "1  C-7, Vishal Enclave, Opposite Metro Pillar 417...     New Delhi   Excellent  \n",
       "2  2524, 1st Floor, Hudson Lane, Delhi University...     New Delhi   Very Good  \n",
       "3  1st Floor, DDA Shopping Complex, Aurobindo Pla...     New Delhi   Very Good  \n",
       "4     M-38, Outer Circle, Connaught Place, New Delhi     New Delhi   Very Good  "
      ]
     },
     "execution_count": 2,
     "metadata": {},
     "output_type": "execute_result"
    }
   ],
   "source": [
    "df = pd.read_json('../../Datasets/zomato_reviews-clean.json')\n",
    "\n",
    "df.head()"
   ]
  },
  {
   "cell_type": "code",
   "execution_count": 3,
   "metadata": {},
   "outputs": [
    {
     "data": {
      "text/html": [
       "<div>\n",
       "<style scoped>\n",
       "    .dataframe tbody tr th:only-of-type {\n",
       "        vertical-align: middle;\n",
       "    }\n",
       "\n",
       "    .dataframe tbody tr th {\n",
       "        vertical-align: top;\n",
       "    }\n",
       "\n",
       "    .dataframe thead th {\n",
       "        text-align: right;\n",
       "    }\n",
       "</style>\n",
       "<table border=\"1\" class=\"dataframe\">\n",
       "  <thead>\n",
       "    <tr style=\"text-align: right;\">\n",
       "      <th>user_rating</th>\n",
       "      <th>Average</th>\n",
       "      <th>Excellent</th>\n",
       "      <th>Good</th>\n",
       "      <th>Not rated</th>\n",
       "      <th>Poor</th>\n",
       "      <th>Very Good</th>\n",
       "    </tr>\n",
       "    <tr>\n",
       "      <th>price_range</th>\n",
       "      <th></th>\n",
       "      <th></th>\n",
       "      <th></th>\n",
       "      <th></th>\n",
       "      <th></th>\n",
       "      <th></th>\n",
       "    </tr>\n",
       "  </thead>\n",
       "  <tbody>\n",
       "    <tr>\n",
       "      <th>1</th>\n",
       "      <td>12</td>\n",
       "      <td>9</td>\n",
       "      <td>33</td>\n",
       "      <td>1</td>\n",
       "      <td>0</td>\n",
       "      <td>19</td>\n",
       "    </tr>\n",
       "    <tr>\n",
       "      <th>2</th>\n",
       "      <td>47</td>\n",
       "      <td>37</td>\n",
       "      <td>116</td>\n",
       "      <td>3</td>\n",
       "      <td>2</td>\n",
       "      <td>132</td>\n",
       "    </tr>\n",
       "    <tr>\n",
       "      <th>3</th>\n",
       "      <td>41</td>\n",
       "      <td>84</td>\n",
       "      <td>141</td>\n",
       "      <td>3</td>\n",
       "      <td>1</td>\n",
       "      <td>218</td>\n",
       "    </tr>\n",
       "    <tr>\n",
       "      <th>4</th>\n",
       "      <td>19</td>\n",
       "      <td>64</td>\n",
       "      <td>56</td>\n",
       "      <td>19</td>\n",
       "      <td>2</td>\n",
       "      <td>121</td>\n",
       "    </tr>\n",
       "  </tbody>\n",
       "</table>\n",
       "</div>"
      ],
      "text/plain": [
       "user_rating  Average  Excellent  Good  Not rated  Poor  Very Good\n",
       "price_range                                                      \n",
       "1                 12          9    33          1     0         19\n",
       "2                 47         37   116          3     2        132\n",
       "3                 41         84   141          3     1        218\n",
       "4                 19         64    56         19     2        121"
      ]
     },
     "execution_count": 3,
     "metadata": {},
     "output_type": "execute_result"
    }
   ],
   "source": [
    "crosstab = pd.crosstab(df['price_range'], df['user_rating'])\n",
    "\n",
    "crosstab"
   ]
  },
  {
   "cell_type": "markdown",
   "metadata": {},
   "source": [
    "¿Recuerdas el objeto `figure`? Bueno, si `figure` es el objeto que contiene nuestras gráficas, los objetos `axes` son los encargados de dibujar cada una de las gráficas. `figure` contiene `axes` y nuestras gráficas se dibujan sobre los `axes`.\n",
    "\n",
    "Usando el método `subplots`, podemos generar al mismo tiempo una nueva figura y múltiples `axes` que están contenidos en esa figura:"
   ]
  },
  {
   "cell_type": "code",
   "execution_count": 7,
   "metadata": {},
   "outputs": [
    {
     "data": {
      "image/png": "[encoded data removed]",
      "text/plain": [
       "<Figure size 720x576 with 4 Axes>"
      ]
     },
     "metadata": {
      "needs_background": "light"
     },
     "output_type": "display_data"
    }
   ],
   "source": [
    "fig, axes = plt.subplots(2, 2,figsize=(10,8))"
   ]
  },
  {
   "cell_type": "markdown",
   "metadata": {},
   "source": [
    "Le pasamos a `subplots` la estructura de nuestra 'tabla' de gráficas. En este caso, le indicamos un entramado de 2 x 2 porque tenemos 4 valores en el primer nivel.\n",
    "\n",
    "Grafiquemos:"
   ]
  },
  {
   "cell_type": "code",
   "execution_count": 17,
   "metadata": {},
   "outputs": [
    {
     "data": {
      "image/png": "[encoded data removed]",
      "text/plain": [
       "<Figure size 720x720 with 4 Axes>"
      ]
     },
     "metadata": {
      "needs_background": "light"
     },
     "output_type": "display_data"
    }
   ],
   "source": [
    "fig, axes = plt.subplots(2, 2, figsize=(10, 10), sharex=True, sharey=True)\n",
    "\n",
    "sns.barplot(x=crosstab.columns, y=crosstab.loc[1], ax=axes[0, 0])\n",
    "sns.barplot(x=crosstab.columns, y=crosstab.loc[2], ax=axes[0, 1])\n",
    "sns.barplot(x=crosstab.columns, y=crosstab.loc[3], ax=axes[1, 0])\n",
    "sns.barplot(x=crosstab.columns, y=crosstab.loc[4], ax=axes[1, 1])\n",
    "\n",
    "axes[0, 0].set(xlabel='', ylabel='', title='Rango de Precio: 1')\n",
    "axes[0, 1].set(xlabel='', ylabel='', title='Rango de Precio: 2')\n",
    "axes[1, 0].set(xlabel='', ylabel='', title='Rango de Precio: 3')\n",
    "axes[1, 1].set(xlabel='', ylabel='', title='Rango de Precio: 4')\n",
    "\n",
    "fig.suptitle('Ratings de restaurantes separados por rango de precio', fontsize=15);\n",
    "\n"
   ]
  },
  {
   "cell_type": "markdown",
   "metadata": {},
   "source": [
    "Cosas importantes a notar:\n",
    "\n",
    "1. Agregamos las banderas `sharex` y `sharey` porque tenemos el mismo eje x para todas nuestras gráficas y porque queremos comparar las gráficas una contra otra. Si nuestro eje y no fuera igual para todas, sería más difícil comparar usando sólo la vista.\n",
    "2. La variable `axes` contiene un arreglo de dos dimensiones con cada uno de nuestros `ax` (el contenedor de cada gráfica). Así como accedemos a cualquier arreglo de 2 dimensiones, acceder a un `ax` se lleva a cabo de esta manera: `axes[0, 1]`.\n",
    "3. Eliminamos los `xlabels` y los `ylabels` porque no son muy informativos y generan ruido visual. En cambio, cada gráfica necesita un título para saber a qué categoría del primer nivel pertenece.\n",
    "4. Agregamos un título a la `figure` (en lugar de al `ax`) usando el método `suptitle`."
   ]
  }
 ],
 "metadata": {
  "kernelspec": {
   "display_name": "Python 3",
   "language": "python",
   "name": "python3"
  },
  "language_info": {
   "codemirror_mode": {
    "name": "ipython",
    "version": 3
   },
   "file_extension": ".py",
   "mimetype": "text/x-python",
   "name": "python",
   "nbconvert_exporter": "python",
   "pygments_lexer": "ipython3",
   "version": "3.7.3"
  }
 },
 "nbformat": 4,
 "nbformat_minor": 4
}
